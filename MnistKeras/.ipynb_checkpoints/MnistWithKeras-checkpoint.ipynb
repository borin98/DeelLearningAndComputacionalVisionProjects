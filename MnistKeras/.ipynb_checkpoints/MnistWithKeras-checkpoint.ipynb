{
 "cells": [
  {
   "cell_type": "markdown",
   "metadata": {
    "collapsed": true,
    "pycharm": {
     "name": "#%% md\n"
    }
   },
   "source": [
    "Creating the model"
   ]
  },
  {
   "cell_type": "code",
   "execution_count": 1,
   "metadata": {
    "pycharm": {
     "is_executing": false,
     "name": "#%%\n"
    }
   },
   "outputs": [
    {
     "name": "stderr",
     "output_type": "stream",
     "text": [
      "Using TensorFlow backend.\n"
     ]
    },
    {
     "name": "stdout",
     "output_type": "stream",
     "text": [
      "(60000, 28, 28)\n"
     ]
    }
   ],
   "source": [
    "from keras.datasets import mnist\n",
    "\n",
    "# Loading the MNIST dataset\n",
    "(xTrain, yTrain), (xTest, yTest) = mnist.load_data()\n",
    "\n",
    "print(xTrain.shape)"
   ]
  },
  {
   "cell_type": "markdown",
   "metadata": {
    "pycharm": {
     "name": "#%% md\n"
    }
   },
   "source": [
    "Examining the size and dimension of the images "
   ]
  },
  {
   "cell_type": "code",
   "execution_count": 2,
   "metadata": {
    "pycharm": {
     "is_executing": false,
     "name": "#%%\n"
    }
   },
   "outputs": [
    {
     "name": "stdout",
     "output_type": "stream",
     "text": [
      "Initial shape of dimensions of xTrain : (60000, 28, 28)\n",
      "\n",
      "Number of samples in the training data 60000\n",
      "Number of labels in the training data 60000\n",
      "Number of samples in the test data 10000\n",
      "Number of labels in the test data 10000\n",
      "\n",
      "Dimension of the xTrain : (28, 28)\n",
      "Labels in xTrain : (60000,)\n",
      "\n",
      "Dimension of the xTest : (28, 28)\n",
      "Labels in xTest : (10000,)\n",
      "\n"
     ]
    }
   ],
   "source": [
    "print(\"Initial shape of dimensions of xTrain : {}\\n\".format(xTrain.shape))\n",
    "\n",
    "print(\"Number of samples in the training data {}\".format(len(xTrain)))\n",
    "print(\"Number of labels in the training data {}\".format(len(yTrain)))\n",
    "print(\"Number of samples in the test data {}\".format(len(xTest)))\n",
    "print(\"Number of labels in the test data {}\\n\".format(len(yTest)))\n",
    "\n",
    "print(\"Dimension of the xTrain : {}\".format(xTrain[0].shape))\n",
    "print(\"Labels in xTrain : {}\\n\".format(yTrain.shape))\n",
    "\n",
    "print(\"Dimension of the xTest : {}\".format(xTest[0].shape))\n",
    "print(\"Labels in xTest : {}\\n\".format(yTest.shape))"
   ]
  },
  {
   "cell_type": "markdown",
   "metadata": {
    "pycharm": {
     "name": "#%% md\n"
    }
   },
   "source": [
    "Let's take a look in some images using OpenCV and Matplotlib"
   ]
  },
  {
   "cell_type": "code",
   "execution_count": 3,
   "metadata": {
    "pycharm": {
     "is_executing": false,
     "name": "#%%\n"
    }
   },
   "outputs": [],
   "source": [
    "import cv2\n",
    "import numpy as np\n",
    "import matplotlib.pyplot as plt\n",
    "\n",
    "# Ploting the images using OpenCV\n",
    "for i in range(0, 6):\n",
    "    \n",
    "    randNum = np.random.randint(0, len(xTrain))\n",
    "    img = xTrain[randNum]\n",
    "    windowName = \"Random sample \" + str(i)\n",
    "    cv2.imshow(windowName, img)\n",
    "    cv2.waitKey(0)\n",
    "\n",
    "cv2.destroyAllWindows()"
   ]
  },
  {
   "cell_type": "code",
   "execution_count": 4,
   "metadata": {
    "pycharm": {
     "is_executing": false,
     "name": "#%%\n"
    }
   },
   "outputs": [
    {
     "data": {
      "image/png": "[encoded data removed]",
      "text/plain": [
       "<Figure size 432x288 with 1 Axes>"
      ]
     },
     "metadata": {
      "needs_background": "light"
     },
     "output_type": "display_data"
    },
    {
     "data": {
      "image/png": "[encoded data removed]",
      "text/plain": [
       "<Figure size 432x288 with 1 Axes>"
      ]
     },
     "metadata": {
      "needs_background": "light"
     },
     "output_type": "display_data"
    },
    {
     "data": {
      "image/png": "[encoded data removed]",
      "text/plain": [
       "<Figure size 432x288 with 1 Axes>"
      ]
     },
     "metadata": {
      "needs_background": "light"
     },
     "output_type": "display_data"
    },
    {
     "data": {
      "image/png": "[encoded data removed]",
      "text/plain": [
       "<Figure size 432x288 with 1 Axes>"
      ]
     },
     "metadata": {
      "needs_background": "light"
     },
     "output_type": "display_data"
    },
    {
     "data": {
      "image/png": "[encoded data removed]",
      "text/plain": [
       "<Figure size 432x288 with 1 Axes>"
      ]
     },
     "metadata": {
      "needs_background": "light"
     },
     "output_type": "display_data"
    },
    {
     "data": {
      "image/png": "[encoded data removed]",
      "text/plain": [
       "<Figure size 432x288 with 1 Axes>"
      ]
     },
     "metadata": {
      "needs_background": "light"
     },
     "output_type": "display_data"
    }
   ],
   "source": [
    "# Ploting some images using matplotlib\n",
    "for i in range(0, 6):\n",
    "    plt.subplot()\n",
    "    randNum = np.random.randint(0, len(xTrain))\n",
    "    plt.imshow(xTrain[randNum], cmap = plt.get_cmap(\"gray\"))\n",
    "    plt.show()"
   ]
  },
  {
   "cell_type": "markdown",
   "metadata": {
    "pycharm": {
     "name": "#%% md\n"
    }
   },
   "source": [
    "Let's adjust the data to our model using the format (number of sample, rows, cols, depth -> number of channels)"
   ]
  },
  {
   "cell_type": "code",
   "execution_count": 5,
   "metadata": {
    "pycharm": {
     "is_executing": false,
     "name": "#%%\n"
    }
   },
   "outputs": [
    {
     "name": "stdout",
     "output_type": "stream",
     "text": [
      "xTrain shape : (60000, 28, 28, 1)\n",
      "Number of training samples : 60000\n",
      "Number of test samples : 10000\n"
     ]
    }
   ],
   "source": [
    "# Saving the number of rows and columns of the training dataset\n",
    "imgRows = xTrain[0].shape[0]\n",
    "imgCols = xTrain[0].shape[1]\n",
    "\n",
    "# Changing the data to (60000, 28, 28, 1)\n",
    "xTrain = xTrain.reshape(xTrain.shape[0], imgRows, imgCols, 1)\n",
    "xTest = xTest.reshape(xTest.shape[0], imgRows, imgCols, 1)\n",
    "\n",
    "# Storing the shape of a single image\n",
    "inputShape = (imgRows, imgCols, 1)\n",
    "\n",
    "# Changing the data type to float32\n",
    "xTrain = xTrain.astype(\"float32\")\n",
    "xTest = xTest.astype(\"float32\")\n",
    "\n",
    "# Normalizing the image to binary values\n",
    "xTrain /= 255\n",
    "xTest /= 255\n",
    "\n",
    "print(\"xTrain shape : {}\".format(xTrain.shape))\n",
    "print(\"Number of training samples : {}\".format(xTrain.shape[0]))\n",
    "print(\"Number of test samples : {}\".format(xTest.shape[0]))"
   ]
  },
  {
   "cell_type": "markdown",
   "metadata": {
    "pycharm": {
     "name": "#%% md\n"
    }
   },
   "source": [
    "Creating the Hot one encoding"
   ]
  },
  {
   "cell_type": "code",
   "execution_count": 6,
   "metadata": {
    "pycharm": {
     "is_executing": false,
     "name": "#%%\n"
    }
   },
   "outputs": [
    {
     "name": "stdout",
     "output_type": "stream",
     "text": [
      "Number of classes : 10\n"
     ]
    }
   ],
   "source": [
    "from keras.utils import np_utils\n",
    "\n",
    "yTrain = np_utils.to_categorical(yTrain)\n",
    "yTest = np_utils.to_categorical(yTest)\n",
    "\n",
    "print(\"Number of classes : {}\".format(yTest.shape[1]))\n",
    "\n",
    "numClasses = yTest.shape[1]\n",
    "numPixels = xTrain.shape[1] * xTrain.shape[2]\n"
   ]
  },
  {
   "cell_type": "markdown",
   "metadata": {
    "pycharm": {
     "name": "#%% md\n"
    }
   },
   "source": [
    "Creating our model"
   ]
  },
  {
   "cell_type": "code",
   "execution_count": 7,
   "metadata": {
    "pycharm": {
     "is_executing": false,
     "name": "#%%\n"
    }
   },
   "outputs": [
    {
     "name": "stdout",
     "output_type": "stream",
     "text": [
      "WARNING:tensorflow:From /home/borin/anaconda3/envs/CursoDLECV/lib/python3.7/site-packages/keras/backend/tensorflow_backend.py:74: The name tf.get_default_graph is deprecated. Please use tf.compat.v1.get_default_graph instead.\n",
      "\n",
      "WARNING:tensorflow:From /home/borin/anaconda3/envs/CursoDLECV/lib/python3.7/site-packages/keras/backend/tensorflow_backend.py:517: The name tf.placeholder is deprecated. Please use tf.compat.v1.placeholder instead.\n",
      "\n",
      "WARNING:tensorflow:From /home/borin/anaconda3/envs/CursoDLECV/lib/python3.7/site-packages/keras/backend/tensorflow_backend.py:4138: The name tf.random_uniform is deprecated. Please use tf.random.uniform instead.\n",
      "\n",
      "WARNING:tensorflow:From /home/borin/anaconda3/envs/CursoDLECV/lib/python3.7/site-packages/keras/backend/tensorflow_backend.py:174: The name tf.get_default_session is deprecated. Please use tf.compat.v1.get_default_session instead.\n",
      "\n",
      "WARNING:tensorflow:From /home/borin/anaconda3/envs/CursoDLECV/lib/python3.7/site-packages/keras/backend/tensorflow_backend.py:181: The name tf.ConfigProto is deprecated. Please use tf.compat.v1.ConfigProto instead.\n",
      "\n",
      "WARNING:tensorflow:From /home/borin/anaconda3/envs/CursoDLECV/lib/python3.7/site-packages/keras/backend/tensorflow_backend.py:186: The name tf.Session is deprecated. Please use tf.compat.v1.Session instead.\n",
      "\n",
      "WARNING:tensorflow:From /home/borin/anaconda3/envs/CursoDLECV/lib/python3.7/site-packages/keras/backend/tensorflow_backend.py:190: The name tf.global_variables is deprecated. Please use tf.compat.v1.global_variables instead.\n",
      "\n",
      "WARNING:tensorflow:From /home/borin/anaconda3/envs/CursoDLECV/lib/python3.7/site-packages/keras/backend/tensorflow_backend.py:199: The name tf.is_variable_initialized is deprecated. Please use tf.compat.v1.is_variable_initialized instead.\n",
      "\n",
      "WARNING:tensorflow:From /home/borin/anaconda3/envs/CursoDLECV/lib/python3.7/site-packages/keras/backend/tensorflow_backend.py:206: The name tf.variables_initializer is deprecated. Please use tf.compat.v1.variables_initializer instead.\n",
      "\n",
      "WARNING:tensorflow:From /home/borin/anaconda3/envs/CursoDLECV/lib/python3.7/site-packages/keras/backend/tensorflow_backend.py:1834: The name tf.nn.fused_batch_norm is deprecated. Please use tf.compat.v1.nn.fused_batch_norm instead.\n",
      "\n",
      "WARNING:tensorflow:From /home/borin/anaconda3/envs/CursoDLECV/lib/python3.7/site-packages/keras/backend/tensorflow_backend.py:133: The name tf.placeholder_with_default is deprecated. Please use tf.compat.v1.placeholder_with_default instead.\n",
      "\n",
      "WARNING:tensorflow:From /home/borin/anaconda3/envs/CursoDLECV/lib/python3.7/site-packages/keras/backend/tensorflow_backend.py:3976: The name tf.nn.max_pool is deprecated. Please use tf.nn.max_pool2d instead.\n",
      "\n",
      "WARNING:tensorflow:From /home/borin/anaconda3/envs/CursoDLECV/lib/python3.7/site-packages/keras/backend/tensorflow_backend.py:3445: calling dropout (from tensorflow.python.ops.nn_ops) with keep_prob is deprecated and will be removed in a future version.\n",
      "Instructions for updating:\n",
      "Please use `rate` instead of `keep_prob`. Rate should be set to `rate = 1 - keep_prob`.\n",
      "WARNING:tensorflow:From /home/borin/anaconda3/envs/CursoDLECV/lib/python3.7/site-packages/keras/optimizers.py:790: The name tf.train.Optimizer is deprecated. Please use tf.compat.v1.train.Optimizer instead.\n",
      "\n",
      "WARNING:tensorflow:From /home/borin/anaconda3/envs/CursoDLECV/lib/python3.7/site-packages/keras/backend/tensorflow_backend.py:3295: The name tf.log is deprecated. Please use tf.math.log instead.\n",
      "\n",
      "_________________________________________________________________\n",
      "Layer (type)                 Output Shape              Param #   \n",
      "=================================================================\n",
      "conv2d_1 (Conv2D)            (None, 26, 26, 32)        320       \n",
      "_________________________________________________________________\n",
      "conv2d_2 (Conv2D)            (None, 24, 24, 32)        9248      \n",
      "_________________________________________________________________\n",
      "batch_normalization_1 (Batch (None, 24, 24, 32)        128       \n",
      "_________________________________________________________________\n",
      "max_pooling2d_1 (MaxPooling2 (None, 12, 12, 32)        0         \n",
      "_________________________________________________________________\n",
      "flatten_1 (Flatten)          (None, 4608)              0         \n",
      "_________________________________________________________________\n",
      "dense_1 (Dense)              (None, 128)               589952    \n",
      "_________________________________________________________________\n",
      "dropout_1 (Dropout)          (None, 128)               0         \n",
      "_________________________________________________________________\n",
      "dense_2 (Dense)              (None, 10)                1290      \n",
      "=================================================================\n",
      "Total params: 600,938\n",
      "Trainable params: 600,874\n",
      "Non-trainable params: 64\n",
      "_________________________________________________________________\n",
      "None\n"
     ]
    }
   ],
   "source": [
    "from keras import backend as K\n",
    "from keras.models import Sequential\n",
    "from keras.layers import Dense, Dropout, Flatten\n",
    "from keras.layers import Conv2D, BatchNormalization, MaxPooling2D\n",
    "from keras.optimizers import SGD\n",
    "\n",
    "# Create model\n",
    "model = Sequential()\n",
    "\n",
    "model.add(Conv2D(32, kernel_size = (3, 3),\n",
    "                 activation = \"relu\", input_shape = inputShape))\n",
    "model.add(Conv2D(32, kernel_size = (3, 3),\n",
    "                 activation = \"relu\"))\n",
    "model.add(BatchNormalization())\n",
    "model.add(MaxPooling2D(pool_size = (2, 2)))\n",
    "model.add(Flatten())\n",
    "model.add(Dense(128, activation = \"relu\"))\n",
    "model.add(Dropout(0.5))\n",
    "model.add(Dense(numClasses, activation = \"softmax\"))\n",
    "\n",
    "model.compile(loss = \"categorical_crossentropy\",\n",
    "              optimizer = SGD(0.01),\n",
    "              metrics = [\"accuracy\"])\n",
    "\n",
    "print(model.summary())"
   ]
  },
  {
   "cell_type": "markdown",
   "metadata": {
    "pycharm": {
     "name": "#%% md\n"
    }
   },
   "source": [
    "Training the model"
   ]
  },
  {
   "cell_type": "code",
   "execution_count": 8,
   "metadata": {
    "pycharm": {
     "is_executing": false,
     "name": "#%%\n"
    }
   },
   "outputs": [
    {
     "name": "stdout",
     "output_type": "stream",
     "text": [
      "WARNING:tensorflow:From /home/borin/anaconda3/envs/CursoDLECV/lib/python3.7/site-packages/tensorflow_core/python/ops/math_grad.py:1424: where (from tensorflow.python.ops.array_ops) is deprecated and will be removed in a future version.\n",
      "Instructions for updating:\n",
      "Use tf.where in 2.0, which has the same broadcast rule as np.where\n",
      "WARNING:tensorflow:From /home/borin/anaconda3/envs/CursoDLECV/lib/python3.7/site-packages/keras/backend/tensorflow_backend.py:986: The name tf.assign_add is deprecated. Please use tf.compat.v1.assign_add instead.\n",
      "\n",
      "WARNING:tensorflow:From /home/borin/anaconda3/envs/CursoDLECV/lib/python3.7/site-packages/keras/backend/tensorflow_backend.py:973: The name tf.assign is deprecated. Please use tf.compat.v1.assign instead.\n",
      "\n",
      "Train on 60000 samples, validate on 10000 samples\n",
      "Epoch 1/5\n",
      "60000/60000 [==============================] - 66s 1ms/step - loss: 0.2552 - acc: 0.9223 - val_loss: 0.0666 - val_acc: 0.9783\n",
      "Epoch 2/5\n",
      "60000/60000 [==============================] - 65s 1ms/step - loss: 0.1024 - acc: 0.9700 - val_loss: 0.0442 - val_acc: 0.9849\n",
      "Epoch 3/5\n",
      "60000/60000 [==============================] - 76s 1ms/step - loss: 0.0776 - acc: 0.9767 - val_loss: 0.0426 - val_acc: 0.9848\n",
      "Epoch 4/5\n",
      "60000/60000 [==============================] - 70s 1ms/step - loss: 0.0624 - acc: 0.9812 - val_loss: 0.0360 - val_acc: 0.9872\n",
      "Epoch 5/5\n",
      "60000/60000 [==============================] - 68s 1ms/step - loss: 0.0555 - acc: 0.9829 - val_loss: 0.0363 - val_acc: 0.9875\n",
      "Test Loss : 0.03628199215535715\n",
      "Test accuracy : 0.9875\n"
     ]
    }
   ],
   "source": [
    "batchSize = 32\n",
    "epochs = 5\n",
    "\n",
    "history = model.fit(xTrain, yTrain,\n",
    "                    batch_size = batchSize, epochs = epochs,\n",
    "                    verbose = 1, validation_data = (xTest, yTest))\n",
    "\n",
    "score = model.evaluate(xTest, yTest, verbose = 0)\n",
    "print(\"Test Loss : {}\".format(score[0]))\n",
    "print(\"Test accuracy : {}\".format(score[1]))"
   ]
  },
  {
   "cell_type": "markdown",
   "metadata": {
    "pycharm": {
     "name": "#%% md\n"
    }
   },
   "source": [
    "Ploting our Loss and Accuracy Charts"
   ]
  },
  {
   "cell_type": "code",
   "execution_count": 11,
   "metadata": {
    "pycharm": {
     "is_executing": true,
     "name": "#%%\n"
    }
   },
   "outputs": [
    {
     "data": {
      "image/png": "[encoded data removed]",
      "text/plain": [
       "<Figure size 432x288 with 1 Axes>"
      ]
     },
     "metadata": {
      "needs_background": "light"
     },
     "output_type": "display_data"
    }
   ],
   "source": [
    "# Ploting the Loss Charts \n",
    "historyDict = history.history\n",
    "\n",
    "lossValues = historyDict[\"loss\"]\n",
    "valLossValues = historyDict[\"val_loss\"]\n",
    "epochs = range(1, len(lossValues) + 1)\n",
    "\n",
    "line1 = plt.plot(epochs, valLossValues, label = \"Validation/Test loss\")\n",
    "line2 = plt.plot(epochs, lossValues, label = \"Training loss\")\n",
    "plt.setp(line1, linewidth = 2.0, marker = \"+\", markersize = 10.0)\n",
    "plt.setp(line1, linewidth = 2.0, marker = \"4\", markersize = 10.0)\n",
    "plt.xlabel(\"Epochs\")\n",
    "plt.ylabel(\"Loss\")\n",
    "plt.grid(True)\n",
    "plt.legend()\n",
    "plt.show()"
   ]
  },
  {
   "cell_type": "code",
   "execution_count": 13,
   "metadata": {
    "pycharm": {
     "name": "#%%\n"
    }
   },
   "outputs": [
    {
     "data": {
      "image/png": "[encoded data removed]",
      "text/plain": [
       "<Figure size 432x288 with 1 Axes>"
      ]
     },
     "metadata": {
      "needs_background": "light"
     },
     "output_type": "display_data"
    }
   ],
   "source": [
    "accValues = historyDict[\"acc\"]\n",
    "valAccValues = historyDict[\"val_acc\"]\n",
    "\n",
    "line1 = plt.plot(epochs, valAccValues, label = \"Validation/Test accuracy\")\n",
    "line2 = plt.plot(epochs, accValues, label = \"Training accuracy\")\n",
    "plt.setp(line1, linewidth = 2.0, marker = \"+\", markersize = 10.0)\n",
    "plt.setp(line1, linewidth = 2.0, marker = \"4\", markersize = 10.0)\n",
    "plt.xlabel(\"Epochs\")\n",
    "plt.ylabel(\"Accuracu\")\n",
    "plt.grid(True)\n",
    "plt.legend()\n",
    "plt.show()"
   ]
  },
  {
   "cell_type": "markdown",
   "metadata": {},
   "source": [
    "Saving our model"
   ]
  }
 ],
 "metadata": {
  "kernelspec": {
   "display_name": "Python 3",
   "language": "python",
   "name": "python3"
  },
  "language_info": {
   "codemirror_mode": {
    "name": "ipython",
    "version": 3
   },
   "file_extension": ".py",
   "mimetype": "text/x-python",
   "name": "python",
   "nbconvert_exporter": "python",
   "pygments_lexer": "ipython3",
   "version": "3.7.5"
  },
  "pycharm": {
   "stem_cell": {
    "cell_type": "raw",
    "metadata": {
     "collapsed": false
    },
    "source": []
   }
  }
 },
 "nbformat": 4,
 "nbformat_minor": 1
}
