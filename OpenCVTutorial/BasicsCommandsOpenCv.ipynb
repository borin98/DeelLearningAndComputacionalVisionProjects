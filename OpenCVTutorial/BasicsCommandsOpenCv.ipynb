{
 "cells": [
  {
   "cell_type": "code",
   "execution_count": 1,
   "metadata": {
    "collapsed": true,
    "pycharm": {
     "is_executing": false
    }
   },
   "outputs": [],
   "source": [
    "import cv2\n",
    "import numpy as np"
   ]
  },
  {
   "cell_type": "code",
   "execution_count": 2,
   "outputs": [],
   "source": [
    "# Reading a image as input\n",
    "inputIm = cv2.imread(\"./ImageRGB.jpg\")\n",
    "\n",
    "# This is how to display a image in OpenCV\n",
    "# The first parameter will be the image title on a new window\n",
    "# the second parameter is the image\n",
    "cv2.imshow(\"Hello World !!!\", inputIm)\n",
    "\n",
    "# This command allow to input information when a image window is open\n",
    "cv2.waitKey(0)\n",
    "\n",
    "# This command closes all the open windows\n",
    "cv2.destroyAllWindows()"
   ],
   "metadata": {
    "collapsed": false,
    "pycharm": {
     "name": "#%%\n",
     "is_executing": false
    }
   }
  },
  {
   "cell_type": "code",
   "execution_count": 3,
   "outputs": [
    {
     "name": "stdout",
     "text": [
      "(1080, 1920, 3)\n\nHeight Of The Image : 1080\n\nWidth Of The Image : 1920\n\nNumbers Of Channels : 3\n\n"
     ],
     "output_type": "stream"
    }
   ],
   "source": [
    "# This print a triple that represents, respectively, the height, width and number of channels\n",
    "print(inputIm.shape)\n",
    "\n",
    "print(\"\\nHeight Of The Image : {}\\n\".format(inputIm.shape[0]))\n",
    "print(\"Width Of The Image : {}\\n\".format(inputIm.shape[1]))\n",
    "print(\"Numbers Of Channels : {}\\n\".format(inputIm.shape[2]))"
   ],
   "metadata": {
    "collapsed": false,
    "pycharm": {
     "name": "#%%\n",
     "is_executing": false
    }
   }
  },
  {
   "cell_type": "code",
   "execution_count": 4,
   "outputs": [
    {
     "data": {
      "text/plain": "True"
     },
     "metadata": {},
     "output_type": "execute_result",
     "execution_count": 4
    }
   ],
   "source": [
    "# This command save a new image\n",
    "# The first parameter is the new image name and the second is the image input\n",
    "cv2.imwrite(\"NewImageTest.png\", inputIm)"
   ],
   "metadata": {
    "collapsed": false,
    "pycharm": {
     "name": "#%%\n",
     "is_executing": false
    }
   }
  },
  {
   "cell_type": "markdown",
   "source": [
    "Creating a Grey image from a RGB image\n"
   ],
   "metadata": {
    "collapsed": false
   }
  },
  {
   "cell_type": "code",
   "execution_count": 5,
   "outputs": [],
   "source": [
    "grayImage = cv2.cvtColor(inputIm, cv2.COLOR_BGR2GRAY)\n",
    "\n",
    "cv2.imshow(\"Gray Scale\", grayImage)\n",
    "cv2.waitKey(0)\n",
    "cv2.destroyAllWindows()\n",
    "\n",
    "# This command read a image and convert to Gray images\n",
    "#cv2.imread(\"./ImageRGB.jpg\", 0)"
   ],
   "metadata": {
    "collapsed": false,
    "pycharm": {
     "name": "#%%\n",
     "is_executing": false
    }
   }
  },
  {
   "cell_type": "markdown",
   "source": [
    "Getting the values of the pixels in a coordinate\n"
   ],
   "metadata": {
    "collapsed": false
   }
  },
  {
   "cell_type": "code",
   "execution_count": 6,
   "outputs": [
    {
     "name": "stdout",
     "text": [
      "Red 197\n\nGreen 140\n\nBlue 133\n\n"
     ],
     "output_type": "stream"
    }
   ],
   "source": [
    "# Looking to a RGB Image\n",
    "B, G, R = inputIm[0, 0]\n",
    "\n",
    "print(\"Red {}\\n\".format(R))\n",
    "print(\"Green {}\\n\".format(G))\n",
    "print(\"Blue {}\\n\".format(B))"
   ],
   "metadata": {
    "collapsed": false,
    "pycharm": {
     "name": "#%%\n",
     "is_executing": false
    }
   }
  },
  {
   "cell_type": "code",
   "execution_count": 7,
   "outputs": [
    {
     "name": "stdout",
     "text": [
      "Pixel Value 156\n\n"
     ],
     "output_type": "stream"
    }
   ],
   "source": [
    "# Looking to a gray image\n",
    "\n",
    "pixel = grayImage[0, 0]\n",
    "\n",
    "print(\"Pixel Value {}\\n\".format(pixel))"
   ],
   "metadata": {
    "collapsed": false,
    "pycharm": {
     "name": "#%%\n",
     "is_executing": false
    }
   }
  },
  {
   "cell_type": "markdown",
   "source": [
    "Using the color space HSV"
   ],
   "metadata": {
    "collapsed": false,
    "pycharm": {
     "name": "#%% md\n"
    }
   }
  },
  {
   "cell_type": "code",
   "execution_count": 8,
   "outputs": [],
   "source": [
    "imageHSV = cv2.cvtColor(inputIm, cv2.COLOR_BGR2HSV)\n",
    "\n",
    "cv2.imshow(\"HSV image\", imageHSV)\n",
    "cv2.waitKey(0)\n",
    "cv2.imshow(\"Hue Channel\", imageHSV[:, :, 0])\n",
    "cv2.waitKey(0)\n",
    "cv2.imshow(\"Saturation Channel\", imageHSV[:, :, 1])\n",
    "cv2.waitKey(0)\n",
    "cv2.imshow(\"Value Channel\", imageHSV[:, :, 2])\n",
    "cv2.waitKey(0)\n",
    "\n",
    "cv2.destroyAllWindows()"
   ],
   "metadata": {
    "collapsed": false,
    "pycharm": {
     "name": "#%%\n",
     "is_executing": false
    }
   }
  },
  {
   "cell_type": "code",
   "execution_count": 9,
   "outputs": [
    {
     "name": "stdout",
     "text": [
      "Red Shape (1080, 1920)\n\nGreen Shape (1080, 1920)\n\nBlue Shape (1080, 1920)\n\n"
     ],
     "output_type": "stream"
    }
   ],
   "source": [
    "# Seeing each channel in the image\n",
    "\n",
    "blueIm, greenIm, redIm = cv2.split(inputIm)\n",
    "\n",
    "print(\"Red Shape {}\\n\".format(redIm.shape))\n",
    "print(\"Green Shape {}\\n\".format(greenIm.shape))\n",
    "print(\"Blue Shape {}\\n\".format(blueIm.shape))\n",
    "\n",
    "cv2.imshow(\"Red Channel\", redIm)\n",
    "cv2.waitKey(0)\n",
    "cv2.imshow(\"Green Channel\", greenIm)\n",
    "cv2.waitKey(0)\n",
    "cv2.imshow(\"Blue Channel\", blueIm)\n",
    "cv2.waitKey(0)\n",
    "\n",
    "cv2.destroyAllWindows()"
   ],
   "metadata": {
    "collapsed": false,
    "pycharm": {
     "name": "#%%\n",
     "is_executing": false
    }
   }
  },
  {
   "cell_type": "code",
   "execution_count": 10,
   "outputs": [],
   "source": [
    "# let's re-make the original image\n",
    "mergedIm = cv2.merge([blueIm, greenIm, redIm])\n",
    "cv2.imshow(\"Merged Image\", mergedIm)\n",
    "cv2.waitKey(0)\n",
    "\n",
    "# let's amplify the red color\n",
    "mergedImAmp = cv2.merge([blueIm, greenIm, redIm + 100])\n",
    "cv2.imshow(\"Merged Image With the Red Amplified\", mergedImAmp)\n",
    "cv2.waitKey(0)\n",
    "\n",
    "cv2.destroyAllWindows()"
   ],
   "metadata": {
    "collapsed": false,
    "pycharm": {
     "name": "#%%\n",
     "is_executing": false
    }
   }
  },
  {
   "cell_type": "code",
   "execution_count": 11,
   "outputs": [],
   "source": [
    "# let's print the image with the color red, green and blue\n",
    "\n",
    "# this function creates a numpy matrix with zeros of size h x w from the image\n",
    "zeros = np.zeros(inputIm.shape[:2], dtype = \"uint8\")\n",
    "\n",
    "cv2.imshow(\"Red Color\", cv2.merge([zeros, zeros, redIm]))\n",
    "cv2.waitKey(0)\n",
    "cv2.imshow(\"Green color\", cv2.merge([zeros, greenIm, zeros]))\n",
    "cv2.waitKey(0)\n",
    "cv2.imshow(\"Blue Color\", cv2.merge([blueIm, zeros, zeros]))\n",
    "cv2.waitKey(0)\n",
    "\n",
    "cv2.destroyAllWindows()"
   ],
   "metadata": {
    "collapsed": false,
    "pycharm": {
     "name": "#%%\n",
     "is_executing": false
    }
   }
  },
  {
   "cell_type": "markdown",
   "source": [
    "Creating Histograms to visualize individual color components"
   ],
   "metadata": {
    "collapsed": false,
    "pycharm": {
     "name": "#%% md\n"
    }
   }
  },
  {
   "cell_type": "code",
   "execution_count": 12,
   "outputs": [],
   "source": [
    "import matplotlib.pyplot as plt"
   ],
   "metadata": {
    "collapsed": false,
    "pycharm": {
     "name": "#%%\n",
     "is_executing": false
    }
   }
  },
  {
   "cell_type": "code",
   "execution_count": 13,
   "outputs": [
    {
     "data": {
      "text/plain": "<Figure size 432x288 with 1 Axes>",
      "image/png": "[encoded data removed]"
     },
     "metadata": {
      "needs_background": "light"
     },
     "output_type": "display_data"
    }
   ],
   "source": [
    "histogram = cv2.calcHist([inputIm], [0], None, [256], [0, 256])\n",
    "\n",
    "# ploting the histogram\n",
    "# THe ravel function flat the image as a 1D-array\n",
    "plt.hist(inputIm.ravel(), 256, [0, 256])\n",
    "plt.grid(True)\n",
    "plt.show()"
   ],
   "metadata": {
    "collapsed": false,
    "pycharm": {
     "name": "#%%\n",
     "is_executing": false
    }
   }
  },
  {
   "cell_type": "code",
   "source": [
    "# seeing separately the colors channels\n",
    "color = (\"b\", \"g\", \"r\")\n",
    "histogramAllColors = None\n",
    "\n",
    "# This looping separate the colors and plot each one in the Histogram\n",
    "for i, col in enumerate(color):\n",
    "    \n",
    "    histogramColor = cv2.calcHist([inputIm], [i], None, [256], [0, 256])\n",
    "    histogramAllColors = histogramColor\n",
    "    plt.plot(histogramColor, color = col)\n",
    "    plt.xlim([0, 256])\n",
    "    plt.grid(True)\n",
    "    \n",
    "    # creating a histogram for each channel\n",
    "    plt.show()\n",
    "\n",
    "# creating a histogram with all the 3 channels\n",
    "\n",
    "for i, col in enumerate(color):\n",
    "    \n",
    "    histogramColor = cv2.calcHist([inputIm], [i], None, [256], [0, 256])\n",
    "    plt.plot(histogramColor, color = col)\n",
    "    plt.xlim([0, 256])\n",
    "\n",
    "plt.grid(True)\n",
    "    \n",
    "# creating a histogram for each channel\n",
    "plt.show()"
   ],
   "metadata": {
    "collapsed": false,
    "pycharm": {
     "name": "#%%\n",
     "is_executing": false
    }
   },
   "execution_count": 14,
   "outputs": [
    {
     "data": {
      "text/plain": "<Figure size 432x288 with 1 Axes>",
      "image/png": "[encoded data removed]"
     },
     "metadata": {
      "needs_background": "light"
     },
     "output_type": "display_data"
    },
    {
     "data": {
      "text/plain": "<Figure size 432x288 with 1 Axes>",
      "image/png": "[encoded data removed]"
     },
     "metadata": {
      "needs_background": "light"
     },
     "output_type": "display_data"
    },
    {
     "data": {
      "text/plain": "<Figure size 432x288 with 1 Axes>",
      "image/png": "[encoded data removed]"
     },
     "metadata": {
      "needs_background": "light"
     },
     "output_type": "display_data"
    },
    {
     "data": {
      "text/plain": "<Figure size 432x288 with 1 Axes>",
      "image/png": "[encoded data removed]"
     },
     "metadata": {
      "needs_background": "light"
     },
     "output_type": "display_data"
    }
   ]
  },
  {
   "cell_type": "markdown",
   "source": [
    "Drawing in images and create shapes using OpenCv"
   ],
   "metadata": {
    "collapsed": false,
    "pycharm": {
     "name": "#%% md\n"
    }
   }
  },
  {
   "cell_type": "code",
   "execution_count": 15,
   "outputs": [],
   "source": [
    "# creating a empty RGB image\n",
    "emptyIm = np.zeros((512, 512, 3), np.uint8)\n",
    "\n",
    "# creating a empty black and white image\n",
    "emptyBWIm = np.zeros((512, 512), np.uint8)\n",
    "\n",
    "cv2.imshow(\"Black RGB rectangle\", emptyIm)\n",
    "cv2.waitKey(0)\n",
    "cv2.imshow(\"Black black and white rectangle\", emptyBWIm)\n",
    "cv2.waitKey(0)\n",
    "\n",
    "cv2.destroyAllWindows()"
   ],
   "metadata": {
    "collapsed": false,
    "pycharm": {
     "name": "#%%\n",
     "is_executing": false
    }
   }
  },
  {
   "cell_type": "markdown",
   "source": [
    "Let's draw a line in the image"
   ],
   "metadata": {
    "collapsed": false,
    "pycharm": {
     "name": "#%% md\n"
    }
   }
  },
  {
   "cell_type": "code",
   "execution_count": 16,
   "outputs": [],
   "source": [
    "# Drawing a diagonal blue line of thicness of 5 pixels that stars at (0, 0) and goes to (511, 511)\n",
    "cv2.line(emptyIm, (0, 0), (511, 511), (250, 127, 0), 5)\n",
    "cv2.imshow(\"Blue Line Drawn\", emptyIm)\n",
    "cv2.waitKey(0)\n",
    "\n",
    "cv2.destroyAllWindows()"
   ],
   "metadata": {
    "collapsed": false,
    "pycharm": {
     "name": "#%%\n",
     "is_executing": false
    }
   }
  },
  {
   "cell_type": "markdown",
   "source": [
    "Let's draw a rectangle"
   ],
   "metadata": {
    "collapsed": false,
    "pycharm": {
     "name": "#%% md\n"
    }
   }
  },
  {
   "cell_type": "code",
   "execution_count": 17,
   "outputs": [],
   "source": [
    "cv2.rectangle(emptyIm, (100, 100), (300, 500), (127, 50, 127), 5)\n",
    "cv2.imshow(\"Rectangle\", emptyIm)\n",
    "cv2.waitKey(0)\n",
    "\n",
    "cv2.destroyAllWindows()"
   ],
   "metadata": {
    "collapsed": false,
    "pycharm": {
     "name": "#%%\n",
     "is_executing": false
    }
   }
  },
  {
   "cell_type": "markdown",
   "source": [
    "Let's draw a circle in the image"
   ],
   "metadata": {
    "collapsed": false,
    "pycharm": {
     "name": "#%% md\n",
     "is_executing": false
    }
   }
  },
  {
   "cell_type": "code",
   "execution_count": 18,
   "outputs": [],
   "source": [
    "# -1 fill all the draw figure\n",
    "cv2.circle(emptyIm, (350, 350), 100, (15, 75, 50), -1)\n",
    "cv2.imshow(\"Circle\", emptyIm)\n",
    "cv2.waitKey(0)\n",
    "\n",
    "cv2.destroyAllWindows()"
   ],
   "metadata": {
    "collapsed": false,
    "pycharm": {
     "name": "#%%\n",
     "is_executing": false
    }
   }
  },
  {
   "cell_type": "markdown",
   "source": [
    "Drawing a Polygon"
   ],
   "metadata": {
    "collapsed": false,
    "pycharm": {
     "name": "#%% md\n"
    }
   }
  },
  {
   "cell_type": "code",
   "execution_count": 19,
   "outputs": [],
   "source": [
    "emptyIm = np.zeros((512, 512, 3), np.uint8)\n",
    "\n",
    "# Creating a polygon using 4 pounts\n",
    "pts = np.array([[10, 50], [400, 50], [90, 200], [50, 500]], np.int32)\n",
    "\n",
    "# Reshaping the points in to make the correclty form\n",
    "pts = pts.reshape((-1, 1, 2))\n",
    "\n",
    "cv2.polylines(emptyIm, [pts], True, (0, 0, 255), 3)\n",
    "cv2.imshow(\"Polygon\", emptyIm)\n",
    "cv2.waitKey(0)\n",
    "\n",
    "cv2.destroyAllWindows()"
   ],
   "metadata": {
    "collapsed": false,
    "pycharm": {
     "name": "#%%\n",
     "is_executing": false
    }
   }
  },
  {
   "cell_type": "markdown",
   "source": [
    "Let's add text in images"
   ],
   "metadata": {
    "collapsed": false,
    "pycharm": {
     "name": "#%% md\n"
    }
   }
  },
  {
   "cell_type": "code",
   "execution_count": 20,
   "outputs": [],
   "source": [
    "emptyIm = np.zeros((512, 512, 3), np.uint8)\n",
    "\n",
    "cv2.putText(emptyIm, \"Hello World !!!\", (75, 290), cv2.FONT_HERSHEY_COMPLEX, 2, (100, 170, 0), 3)\n",
    "\n",
    "cv2.imshow(\"Hello World !!!\", emptyIm)\n",
    "cv2.waitKey(0)\n",
    "\n",
    "cv2.destroyAllWindows()"
   ],
   "metadata": {
    "collapsed": false,
    "pycharm": {
     "name": "#%%\n",
     "is_executing": false
    }
   }
  },
  {
   "cell_type": "code",
   "execution_count": 20,
   "outputs": [],
   "source": [
    "\n"
   ],
   "metadata": {
    "collapsed": false,
    "pycharm": {
     "name": "#%%\n",
     "is_executing": false
    }
   }
  }
 ],
 "metadata": {
  "language_info": {
   "codemirror_mode": {
    "name": "ipython",
    "version": 2
   },
   "file_extension": ".py",
   "mimetype": "text/x-python",
   "name": "python",
   "nbconvert_exporter": "python",
   "pygments_lexer": "ipython2",
   "version": "2.7.6"
  },
  "kernelspec": {
   "name": "python3",
   "language": "python",
   "display_name": "Python 3"
  },
  "pycharm": {
   "stem_cell": {
    "cell_type": "raw",
    "source": [],
    "metadata": {
     "collapsed": false
    }
   }
  }
 },
 "nbformat": 4,
 "nbformat_minor": 0
}