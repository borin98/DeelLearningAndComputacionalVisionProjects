{
 "cells": [
  {
   "cell_type": "code",
   "execution_count": 1,
   "metadata": {
    "collapsed": true,
    "pycharm": {
     "is_executing": false
    }
   },
   "outputs": [],
   "source": [
    "import cv2\n",
    "import numpy as np"
   ]
  },
  {
   "cell_type": "markdown",
   "source": [
    "Detecting contours in images"
   ],
   "metadata": {
    "collapsed": false,
    "pycharm": {
     "name": "#%% md\n"
    }
   }
  },
  {
   "cell_type": "code",
   "execution_count": 4,
   "outputs": [
    {
     "name": "stdout",
     "text": [
      "Number of Contours founded : 3123\n"
     ],
     "output_type": "stream"
    }
   ],
   "source": [
    "image = cv2.imread(\"./ImageRGB.jpg\")\n",
    "cv2.imshow(\"Input Image\", image)\n",
    "cv2.waitKey(0)\n",
    "\n",
    "# Creating a gray scale image\n",
    "grayIm = cv2.cvtColor(image, cv2.COLOR_BGR2GRAY)\n",
    "\n",
    "# Finding the Canny Edges\n",
    "edges = cv2.Canny(grayIm, 30, 200)\n",
    "cv2.imshow(\"Canny Edges\", edges)\n",
    "cv2.waitKey(0)\n",
    "\n",
    "# Finding the contours\n",
    "cont, hie = cv2.findContours(edges, cv2.RETR_EXTERNAL, cv2.CHAIN_APPROX_NONE)\n",
    "cv2.imshow(\"Canny Edges after contouring\", edges)\n",
    "cv2.waitKey(0)\n",
    "\n",
    "print(\"Number of Contours founded : {}\".format(len(cont)))\n",
    "\n",
    "# Let's draw all the contours\n",
    "# The value -1 on the 3rd parameter draw all the contours\n",
    "cv2.drawContours(image, cont, -1, (0, 255, 0), 3)\n",
    "cv2.imshow(\"Contours\", image)\n",
    "cv2.waitKey(0)\n",
    "\n",
    "cv2.destroyAllWindows()"
   ],
   "metadata": {
    "collapsed": false,
    "pycharm": {
     "name": "#%%\n",
     "is_executing": false
    }
   }
  },
  {
   "cell_type": "code",
   "execution_count": null,
   "outputs": [],
   "source": [
    "\n"
   ],
   "metadata": {
    "collapsed": false,
    "pycharm": {
     "name": "#%%\n"
    }
   }
  }
 ],
 "metadata": {
  "language_info": {
   "codemirror_mode": {
    "name": "ipython",
    "version": 2
   },
   "file_extension": ".py",
   "mimetype": "text/x-python",
   "name": "python",
   "nbconvert_exporter": "python",
   "pygments_lexer": "ipython2",
   "version": "2.7.6"
  },
  "kernelspec": {
   "name": "python3",
   "language": "python",
   "display_name": "Python 3"
  },
  "pycharm": {
   "stem_cell": {
    "cell_type": "raw",
    "source": [],
    "metadata": {
     "collapsed": false
    }
   }
  }
 },
 "nbformat": 4,
 "nbformat_minor": 0
}